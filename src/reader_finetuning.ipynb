{
 "cells": [
  {
   "cell_type": "markdown",
   "id": "6a36fa7e-6f06-4233-b6ec-aba8c4a9c6eb",
   "metadata": {
    "tags": []
   },
   "source": [
    "# Reader Model Fine-Tuning\n",
    "This Notebook contains the code to fine-tune a pre-trained reader model from the Huggingface hub"
   ]
  },
  {
   "cell_type": "code",
   "execution_count": null,
   "id": "dc97275e-79d8-4624-bc72-6b47e04a0b19",
   "metadata": {},
   "outputs": [],
   "source": [
    "# check that the gpu is working\n",
    "!nvidia-smi"
   ]
  },
  {
   "cell_type": "code",
   "execution_count": null,
   "id": "0212654c-3c2d-4ad0-9d69-b82b60afd562",
   "metadata": {},
   "outputs": [],
   "source": [
    "# Import FARMReader\n",
    "from haystack.nodes import FARMReader"
   ]
  },
  {
   "cell_type": "code",
   "execution_count": null,
   "id": "36d9ab64-89e9-4c70-a858-891209412198",
   "metadata": {},
   "outputs": [],
   "source": [
    "# Set data dir\n",
    "data_dir = \"../data\"\n",
    "filename = \"legal_squad_train.json\""
   ]
  },
  {
   "cell_type": "code",
   "execution_count": null,
   "id": "b893c44f-7977-49c5-bf5b-457fd9b61b3a",
   "metadata": {},
   "outputs": [],
   "source": [
    "# Init Reader model from huggingface\n",
    "reader = FARMReader(model_name_or_path=\"deepset/gelectra-large-germanquad\", use_gpu=True)"
   ]
  },
  {
   "cell_type": "code",
   "execution_count": null,
   "id": "9d92d68f-ade8-4f38-8255-0facf4a3fcf7",
   "metadata": {},
   "outputs": [],
   "source": [
    "# Start training process\n",
    "reader.train(data_dir=data_dir,\n",
    "             train_filename=filename,\n",
    "             use_gpu=True,\n",
    "             batch_size=10,\n",
    "             n_epochs=2,\n",
    "             learning_rate=1e-5,\n",
    "             warmup_proportion=0.2,\n",
    "             save_dir=\"finetuned_models/GELECTRA-large-LegalQuAD\")"
   ]
  },
  {
   "cell_type": "code",
   "execution_count": null,
   "id": "b8cd3a35-42aa-4ebc-8bfc-9d9ca164ca52",
   "metadata": {},
   "outputs": [],
   "source": [
    "# Init fine-tuned reader from local workspace\n",
    "reader_legalquad_finetuned = FARMReader(model_name_or_path=\"finetuned_models/GELECTRA-large-LegalQuAD\", use_gpu=True)\n",
    "# Evaluation of the model on the test file\n",
    "reader_eval_results = reader_legalquad_finetuned.eval_on_file(\"../data/\", \"legal_squad_test.json\")\n",
    "# Print evaluation results\n",
    "reader_eval_results"
   ]
  }
 ],
 "metadata": {
  "kernelspec": {
   "display_name": "qa:Python",
   "language": "python",
   "name": "conda-env-qa-py"
  },
  "language_info": {
   "codemirror_mode": {
    "name": "ipython",
    "version": 3
   },
   "file_extension": ".py",
   "mimetype": "text/x-python",
   "name": "python",
   "nbconvert_exporter": "python",
   "pygments_lexer": "ipython3",
   "version": "3.9.10"
  }
 },
 "nbformat": 4,
 "nbformat_minor": 5
}
