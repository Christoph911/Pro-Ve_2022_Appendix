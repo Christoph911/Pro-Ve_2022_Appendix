{
 "cells": [
  {
   "cell_type": "markdown",
   "id": "3933ac67-5868-4e1a-bf28-98acca7b9f94",
   "metadata": {},
   "source": [
    "# Retriever Model and Pipeline Evaluation on LegalQuAD\n",
    "\n",
    "This notebook contains the Evaluation of different pre-trained reader Models in a stand-alone approach on the German LegalQuAD test dataset. \n",
    "The experiments were conducted as part of the Paper \"Collaborative System for Question Answering in German Case Law Documents\" published at the Pro-Ve 2022.\n",
    "A detailed description of the experiments can be found in the paper. "
   ]
  },
  {
   "cell_type": "code",
   "execution_count": null,
   "id": "cfcddfaa-7ee3-463b-a221-b01dea9a0916",
   "metadata": {},
   "outputs": [],
   "source": [
    "# Import modules\n",
    "from haystack.nodes import FARMReader"
   ]
  },
  {
   "cell_type": "code",
   "execution_count": null,
   "id": "e91ff150-f398-463f-bbb0-e7c8f3a2e066",
   "metadata": {},
   "outputs": [],
   "source": [
    "# Check that gpu is working\n",
    "!nvidia-smi"
   ]
  },
  {
   "cell_type": "code",
   "execution_count": null,
   "id": "2ddfcb33-6480-4de8-8683-ce36cfa60492",
   "metadata": {},
   "outputs": [],
   "source": [
    "# Init reader from local workspace\n",
    "reader_legalquad_finetuned = FARMReader(model_name_or_path=\"finetuned_models/GELECTRA-large-LegalQuAD-new\", use_gpu=True)\n",
    "# Evaluation\n",
    "reader_eval_results = reader_legalquad_finetuned.eval_on_file(\"../data/\", \"legal_squad_test.json\")\n",
    "# Print evaluation results\n",
    "reader_eval_results"
   ]
  },
  {
   "cell_type": "code",
   "execution_count": null,
   "id": "2a2bb606-014f-492a-8166-c0ad71fb7345",
   "metadata": {
    "tags": []
   },
   "outputs": [],
   "source": [
    "# Init reader from huggingface\n",
    "reader_distilbert = FARMReader(model_name_or_path=\"distilbert-base-uncased-distilled-squad\", use_gpu=True)\n",
    "# Evaluation\n",
    "reader_eval_results = reader_distilbert.eval_on_file(\"../data/\", \"legal_squad_test.json\")\n",
    "# Print evaluation results\n",
    "reader_eval_results"
   ]
  },
  {
   "cell_type": "code",
   "execution_count": null,
   "id": "febaf6b8-eedf-4f1c-bb82-97e6aa92ded7",
   "metadata": {},
   "outputs": [],
   "source": [
    "# Init reader from huggingface\n",
    "reader_germanquad_distilled = FARMReader(model_name_or_path=\"deepset/gelectra-base-germanquad-distilled\", use_gpu=True)\n",
    "# Evaluation\n",
    "reader_eval_results = reader_germanquad_distilled.eval_on_file(\"../data/\", \"legal_squad_test.json\")\n",
    "# Print evaluation results\n",
    "reader_eval_results"
   ]
  },
  {
   "cell_type": "code",
   "execution_count": null,
   "id": "46faa7ca-bd51-46bb-ad3e-cffe76436eda",
   "metadata": {},
   "outputs": [],
   "source": [
    "# Init reader from huggingface\n",
    "reader_germanquad_base = FARMReader(model_name_or_path=\"deepset/gelectra-base-germanquad\", use_gpu=True)\n",
    "# Evaluation\n",
    "reader_eval_results = reader_germanquad_base.eval_on_file(\"../data/\", \"legal_squad_test.json\")\n",
    "# Print evaluation results\n",
    "reader_eval_results"
   ]
  },
  {
   "cell_type": "code",
   "execution_count": null,
   "id": "28aaf217-bbfc-4de0-a0d0-ab3bd0b7560c",
   "metadata": {},
   "outputs": [],
   "source": [
    "# Init reader from hugginface\n",
    "reader_germanquad_large = FARMReader(model_name_or_path=\"deepset/gelectra-large-germanquad\", use_gpu=True)\n",
    "# Evaluation\n",
    "reader_eval_results = reader_germanquad_large.eval_on_file(\"../data/\", \"legal_squad_test.json\")\n",
    "# Print evaluation results\n",
    "reader_eval_results"
   ]
  },
  {
   "cell_type": "code",
   "execution_count": null,
   "id": "38419eac-2a33-4836-a497-0a07cc4a2a28",
   "metadata": {},
   "outputs": [],
   "source": [
    "# Init reader from hugginface\n",
    "reader_sahajtomar_germanquad = FARMReader(model_name_or_path=\"Sahajtomar/German-question-answer-Electra\", use_gpu=True)\n",
    "# Evaluation\n",
    "reader_eval_results = reader_sahajtomar_germanquad.eval_on_file(\"../data/\", \"legal_squad_test.json\")\n",
    "# Print evaluation results\n",
    "reader_eval_results"
   ]
  },
  {
   "cell_type": "code",
   "execution_count": null,
   "id": "d62e27f5-84e1-44d9-be36-6261c3fb2f77",
   "metadata": {},
   "outputs": [],
   "source": [
    "# Init reader from hugginface\n",
    "reader_sahajtomar_gbertqa = FARMReader(model_name_or_path=\"Sahajtomar/GBERTQnA\", use_gpu=True)\n",
    "# Evaluation\n",
    "reader_eval_results = reader_sahajtomar_gbertqa.eval_on_file(\"../data/\", \"legal_squad_test.json\")\n",
    "# Print evaluation results\n",
    "reader_eval_results"
   ]
  },
  {
   "cell_type": "code",
   "execution_count": null,
   "id": "d5a797c5-bac0-41bc-8a18-d37225aa026d",
   "metadata": {},
   "outputs": [],
   "source": [
    "# Init reader from hugginface\n",
    "reader_telekom_multi_squad_base = FARMReader(model_name_or_path=\"deutsche-telekom/electra-base-de-squad2\", use_gpu=True)\n",
    "# Evaluation\n",
    "reader_eval_results = reader_telekom_multi_squad_base.eval_on_file(\"../data/\", \"legal_squad_test.json\")\n",
    "# Print evaluation results\n",
    "reader_eval_results"
   ]
  }
 ],
 "metadata": {
  "kernelspec": {
   "display_name": "qa:Python",
   "language": "python",
   "name": "conda-env-qa-py"
  },
  "language_info": {
   "codemirror_mode": {
    "name": "ipython",
    "version": 3
   },
   "file_extension": ".py",
   "mimetype": "text/x-python",
   "name": "python",
   "nbconvert_exporter": "python",
   "pygments_lexer": "ipython3",
   "version": "3.9.10"
  }
 },
 "nbformat": 4,
 "nbformat_minor": 5
}
